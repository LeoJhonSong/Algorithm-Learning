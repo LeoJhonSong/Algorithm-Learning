{
 "cells": [
  {
   "cell_type": "markdown",
   "metadata": {},
   "source": [
    "# 牛客网题解\n",
    "\n",
    "## 算法题\n",
    "\n",
    "### NC37"
   ]
  },
  {
   "cell_type": "code",
   "execution_count": null,
   "metadata": {},
   "outputs": [],
   "source": [
    "class Interval:\n",
    "    def __init__(self, a=0, b=0):\n",
    "        self.start = a\n",
    "        self.end = b\n",
    "#\n",
    "# 代码中的类名、方法名、参数名已经指定，请勿修改，直接返回方法规定的值即可\n",
    "#\n",
    "#\n",
    "# @param intervals Interval类一维数组\n",
    "# @return Interval类一维数组\n",
    "#\n",
    "class Solution:\n",
    "    def merge(self , intervals: List[Interval]) -> List[Interval]:\n",
    "        # 按start大小排序\n",
    "        intervals.sort(key=lambda x: x.start)\n",
    "        ret = []\n",
    "        for item in intervals:\n",
    "            if not ret:  # 初始化\n",
    "                ret.append(intervals[0])\n",
    "            else:\n",
    "                last = ret[-1]  # 这前面的区间都合并好了\n",
    "                # 判断区间有没有重叠\n",
    "                if item.start <= last.end:\n",
    "                    last.end = max(last.end, item.end)  # 合并区间\n",
    "                else:\n",
    "                    ret.append(item)\n",
    "        return ret"
   ]
  },
  {
   "cell_type": "markdown",
   "metadata": {},
   "source": [
    "## 公司题目\n",
    "\n",
    "### 华为"
   ]
  },
  {
   "cell_type": "markdown",
   "metadata": {},
   "source": []
  },
  {
   "cell_type": "markdown",
   "metadata": {},
   "source": [
    "#### HJ14 中 字符串排序"
   ]
  },
  {
   "cell_type": "code",
   "execution_count": null,
   "metadata": {},
   "outputs": [],
   "source": [
    "import sys\n",
    "data = [s.strip() for s in sys.stdin.readlines()]\n",
    "\n",
    "for s in sorted(data[1:]):\n",
    "    print(s)"
   ]
  },
  {
   "cell_type": "markdown",
   "metadata": {},
   "source": [
    "#### HJ23 难 删除字符串中出现次数最少的字符"
   ]
  },
  {
   "cell_type": "code",
   "execution_count": null,
   "metadata": {},
   "outputs": [],
   "source": [
    "import sys\n",
    "from collections import Counter\n",
    "\n",
    "data = [s.strip() for s in sys.stdin.readlines()]\n",
    "\n",
    "for d in data:\n",
    "    c = Counter(d)\n",
    "    table = sorted(c.items(), key=lambda x: x[1])\n",
    "    # 得出次数最少的字符列表\n",
    "    rm_l = [i[0] for i in table if i[1] == table[0][1]]\n",
    "    # 删掉字符\n",
    "    for s in rm_l:\n",
    "        d = d.replace(s, '')\n",
    "    print(d)"
   ]
  },
  {
   "cell_type": "markdown",
   "metadata": {},
   "source": [
    "#### HJ33 难 整数与IP地址间的转换"
   ]
  },
  {
   "cell_type": "code",
   "execution_count": null,
   "metadata": {},
   "outputs": [],
   "source": [
    "while True:\n",
    "    try:\n",
    "        ip = input().split('.')\n",
    "        print(int(f'0b{\"\".join([f\"{int(s):08b}\" for s in ip])}', 2))\n",
    "        num = int(input())\n",
    "        s = f'{num:032b}'\n",
    "        l = [s[8 * i: 8 * i + 8] for i in range(4)]\n",
    "        print('.'.join([str(int(item, 2)) for item in l]))\n",
    "    except:\n",
    "        break"
   ]
  },
  {
   "cell_type": "markdown",
   "metadata": {},
   "source": [
    "#### HJ68 难 成绩排序"
   ]
  },
  {
   "cell_type": "code",
   "execution_count": null,
   "metadata": {},
   "outputs": [],
   "source": [
    "while True:\n",
    "    try:\n",
    "        n, rev = int(input()), not(bool(int(input())))\n",
    "        data = []\n",
    "        for i in range(n):\n",
    "            line = input().strip().split(' ')\n",
    "            line[1] = int(line[1])\n",
    "            data.append(line)\n",
    "        data.sort(key=(lambda x: x[1]), reverse=rev)\n",
    "        for item in data:\n",
    "            print(f'{item[0]} {item[1]}')\n",
    "    except:\n",
    "        break"
   ]
  },
  {
   "cell_type": "markdown",
   "metadata": {},
   "source": [
    "#### HJ106 简单 字符逆序"
   ]
  },
  {
   "cell_type": "code",
   "execution_count": null,
   "metadata": {},
   "outputs": [],
   "source": [
    "print(input()[::-1])"
   ]
  }
 ],
 "metadata": {
  "language_info": {
   "name": "python"
  },
  "orig_nbformat": 4
 },
 "nbformat": 4,
 "nbformat_minor": 2
}
